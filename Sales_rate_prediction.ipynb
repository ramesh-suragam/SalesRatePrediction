{
 "cells": [
  {
   "cell_type": "markdown",
   "metadata": {},
   "source": [
    "# Sales Rate Prediction\n",
    "\n",
    "### Problem Statement:\n",
    "\n",
    "In this notebook, we aim to predict the rate of sale for a given product. A sample dataset has been provided to explore and potentially produce a working prototype.\n",
    "\n",
    "You will need to present your thoughts and approach on this back to us where we are looking at what you produced in the  prototype, understanding of the dataset, and your thoughts to a long term approach and options moving forward.\n",
    "\n",
    "### Considerations:\n",
    "- Prototype in any language/framework as you see fit\n",
    "- What Logic based approaches, ML, Deep learning options are there?\n",
    "- What a long term option may look like and how would an iterative approach to delivering look like\n",
    "- What additional data may help improve your approach?\n",
    "- How can you make the results from your approach reproducible?\n",
    "\n",
    "### Data Definitions:\n",
    "The dataset provided consists of a selection of product attributes along with some high level sales data. The columns are defined as follows:\n",
    "- ProductNumber: Unique ID of the product\n",
    "- ProductSkuCode: Unique ID of the product along with the size code\n",
    "- ProductSize: Size of the product\n",
    "- ProductDivision: Numerical encoding of the product's division\n",
    "- ProductDepartment: Numerical encoding of the product's department\n",
    "- ProductGroup: Numerical encoding of the product's group\n",
    "- ProductCategory: Numerical encoding of the product's category\n",
    "- ProductSizeGroupDescription: Numerical encoding of the product's size group description\n",
    "- ProductOriginalUnitPriceGBP: Price of the product in GBP\n",
    "- ProductMaxDaysToSellinFullPrice: The maximum number of days the product was sold at full price\n",
    "- Season: Numerical encoding of the season the product was sold in\n",
    "- FullPriceUnits: Number of full price units sold\n",
    "- RateofSales: The rate of the sale of the product at the size level\n",
    "\n",
    "Rate of sale formula: FullPriceUnits / ProductMaxDaysToSellinFullPrice"
   ]
  },
  {
   "cell_type": "markdown",
   "metadata": {},
   "source": [
    "# Data Exploration and Preparation"
   ]
  },
  {
   "cell_type": "markdown",
   "metadata": {},
   "source": [
    "## Loading the data\n",
    "\n",
    "- This section includes loading of the data, understanding basic description of the data; followed by cleanup & imputations if required."
   ]
  },
  {
   "cell_type": "code",
   "execution_count": 82,
   "metadata": {},
   "outputs": [],
   "source": [
    "# Importing the required packages\n",
    "\n",
    "import random\n",
    "import numpy as np\n",
    "import pandas as pd\n",
    "import matplotlib.pyplot as plt\n",
    "import seaborn as sns\n",
    "\n",
    "%matplotlib inline\n",
    "\n",
    "from sklearn.model_selection import train_test_split\n",
    "import category_encoders as ce\n",
    "\n",
    "# from statsmodels.stats.outliers_influence import variance_inflation_factor\n",
    "from sklearn.model_selection import GridSearchCV\n",
    "from sklearn.ensemble import RandomForestRegressor\n",
    "from sklearn import metrics\n",
    "from sklearn.pipeline import Pipeline\n",
    "from sklearn.compose import ColumnTransformer\n",
    "\n",
    "import warnings\n",
    "warnings.filterwarnings('ignore')"
   ]
  },
  {
   "cell_type": "code",
   "execution_count": 50,
   "metadata": {},
   "outputs": [
    {
     "name": "stdout",
     "output_type": "stream",
     "text": [
      "The shape of the sales data is: (10528, 13)\n"
     ]
    }
   ],
   "source": [
    "# Loading the dataset and previewing the shape of the dataframe\n",
    "\n",
    "sales_data = pd.read_csv('../dataset.csv')\n",
    "print(\"The shape of the sales data is:\",sales_data.shape)"
   ]
  },
  {
   "cell_type": "code",
   "execution_count": 51,
   "metadata": {
    "scrolled": true
   },
   "outputs": [
    {
     "data": {
      "text/html": [
       "<div>\n",
       "<style scoped>\n",
       "    .dataframe tbody tr th:only-of-type {\n",
       "        vertical-align: middle;\n",
       "    }\n",
       "\n",
       "    .dataframe tbody tr th {\n",
       "        vertical-align: top;\n",
       "    }\n",
       "\n",
       "    .dataframe thead th {\n",
       "        text-align: right;\n",
       "    }\n",
       "</style>\n",
       "<table border=\"1\" class=\"dataframe\">\n",
       "  <thead>\n",
       "    <tr style=\"text-align: right;\">\n",
       "      <th></th>\n",
       "      <th>ProductNumber</th>\n",
       "      <th>ProductSkuCode</th>\n",
       "      <th>ProductSize</th>\n",
       "      <th>ProductDivision</th>\n",
       "      <th>ProductDepartment</th>\n",
       "      <th>ProductGroup</th>\n",
       "      <th>ProductCategory</th>\n",
       "      <th>ProductSizeGroupDescription</th>\n",
       "      <th>ProductOriginalUnitPriceGBP</th>\n",
       "      <th>ProductMaxDaysToSellInFullPrice</th>\n",
       "      <th>Season</th>\n",
       "      <th>FullPriceUnits</th>\n",
       "      <th>RateofSales</th>\n",
       "    </tr>\n",
       "  </thead>\n",
       "  <tbody>\n",
       "    <tr>\n",
       "      <th>0</th>\n",
       "      <td>1000</td>\n",
       "      <td>1000000005</td>\n",
       "      <td>8 UK</td>\n",
       "      <td>1</td>\n",
       "      <td>6</td>\n",
       "      <td>12</td>\n",
       "      <td>69</td>\n",
       "      <td>29</td>\n",
       "      <td>3913.0</td>\n",
       "      <td>1.0</td>\n",
       "      <td>0</td>\n",
       "      <td>0</td>\n",
       "      <td>0.000000</td>\n",
       "    </tr>\n",
       "    <tr>\n",
       "      <th>1</th>\n",
       "      <td>1001</td>\n",
       "      <td>1001000009</td>\n",
       "      <td>44 FR</td>\n",
       "      <td>1</td>\n",
       "      <td>6</td>\n",
       "      <td>19</td>\n",
       "      <td>217</td>\n",
       "      <td>26</td>\n",
       "      <td>1085.0</td>\n",
       "      <td>1.0</td>\n",
       "      <td>0</td>\n",
       "      <td>0</td>\n",
       "      <td>0.000000</td>\n",
       "    </tr>\n",
       "    <tr>\n",
       "      <th>2</th>\n",
       "      <td>1002</td>\n",
       "      <td>1002000007</td>\n",
       "      <td>XL</td>\n",
       "      <td>1</td>\n",
       "      <td>3</td>\n",
       "      <td>3</td>\n",
       "      <td>84</td>\n",
       "      <td>32</td>\n",
       "      <td>105.0</td>\n",
       "      <td>164.0</td>\n",
       "      <td>0</td>\n",
       "      <td>1</td>\n",
       "      <td>0.006098</td>\n",
       "    </tr>\n",
       "    <tr>\n",
       "      <th>3</th>\n",
       "      <td>1003</td>\n",
       "      <td>1003000004</td>\n",
       "      <td>38 IT</td>\n",
       "      <td>1</td>\n",
       "      <td>6</td>\n",
       "      <td>31</td>\n",
       "      <td>152</td>\n",
       "      <td>27</td>\n",
       "      <td>637.0</td>\n",
       "      <td>1.0</td>\n",
       "      <td>0</td>\n",
       "      <td>0</td>\n",
       "      <td>0.000000</td>\n",
       "    </tr>\n",
       "    <tr>\n",
       "      <th>4</th>\n",
       "      <td>1003</td>\n",
       "      <td>1003000006</td>\n",
       "      <td>42 IT</td>\n",
       "      <td>1</td>\n",
       "      <td>6</td>\n",
       "      <td>31</td>\n",
       "      <td>152</td>\n",
       "      <td>27</td>\n",
       "      <td>637.0</td>\n",
       "      <td>129.0</td>\n",
       "      <td>0</td>\n",
       "      <td>2</td>\n",
       "      <td>0.015504</td>\n",
       "    </tr>\n",
       "  </tbody>\n",
       "</table>\n",
       "</div>"
      ],
      "text/plain": [
       "   ProductNumber  ProductSkuCode ProductSize  ProductDivision  \\\n",
       "0           1000      1000000005        8 UK                1   \n",
       "1           1001      1001000009       44 FR                1   \n",
       "2           1002      1002000007          XL                1   \n",
       "3           1003      1003000004       38 IT                1   \n",
       "4           1003      1003000006       42 IT                1   \n",
       "\n",
       "   ProductDepartment  ProductGroup  ProductCategory  \\\n",
       "0                  6            12               69   \n",
       "1                  6            19              217   \n",
       "2                  3             3               84   \n",
       "3                  6            31              152   \n",
       "4                  6            31              152   \n",
       "\n",
       "   ProductSizeGroupDescription  ProductOriginalUnitPriceGBP  \\\n",
       "0                           29                       3913.0   \n",
       "1                           26                       1085.0   \n",
       "2                           32                        105.0   \n",
       "3                           27                        637.0   \n",
       "4                           27                        637.0   \n",
       "\n",
       "   ProductMaxDaysToSellInFullPrice  Season  FullPriceUnits  RateofSales  \n",
       "0                              1.0       0               0     0.000000  \n",
       "1                              1.0       0               0     0.000000  \n",
       "2                            164.0       0               1     0.006098  \n",
       "3                              1.0       0               0     0.000000  \n",
       "4                            129.0       0               2     0.015504  "
      ]
     },
     "execution_count": 51,
     "metadata": {},
     "output_type": "execute_result"
    }
   ],
   "source": [
    "# Previewing the data\n",
    "\n",
    "sales_data.head(5)"
   ]
  },
  {
   "cell_type": "markdown",
   "metadata": {},
   "source": [
    "## Variable Identification"
   ]
  },
  {
   "cell_type": "code",
   "execution_count": 52,
   "metadata": {},
   "outputs": [
    {
     "name": "stdout",
     "output_type": "stream",
     "text": [
      "Looking at individual features:\n",
      "\n",
      "<class 'pandas.core.frame.DataFrame'>\n",
      "RangeIndex: 10528 entries, 0 to 10527\n",
      "Data columns (total 13 columns):\n",
      "ProductNumber                      10528 non-null int64\n",
      "ProductSkuCode                     10528 non-null int64\n",
      "ProductSize                        10528 non-null object\n",
      "ProductDivision                    10528 non-null int64\n",
      "ProductDepartment                  10528 non-null int64\n",
      "ProductGroup                       10528 non-null int64\n",
      "ProductCategory                    10528 non-null int64\n",
      "ProductSizeGroupDescription        10528 non-null int64\n",
      "ProductOriginalUnitPriceGBP        10528 non-null float64\n",
      "ProductMaxDaysToSellInFullPrice    10528 non-null float64\n",
      "Season                             10528 non-null int64\n",
      "FullPriceUnits                     10528 non-null int64\n",
      "RateofSales                        10528 non-null float64\n",
      "dtypes: float64(3), int64(9), object(1)\n",
      "memory usage: 1.0+ MB\n"
     ]
    }
   ],
   "source": [
    "print(\"Looking at individual features:\\n\")\n",
    "sales_data.info()"
   ]
  },
  {
   "cell_type": "code",
   "execution_count": 53,
   "metadata": {},
   "outputs": [
    {
     "data": {
      "text/plain": [
       "ProductNumber                       1750\n",
       "ProductSkuCode                     10528\n",
       "ProductSize                          248\n",
       "ProductDivision                        2\n",
       "ProductDepartment                      9\n",
       "ProductGroup                          42\n",
       "ProductCategory                      242\n",
       "ProductSizeGroupDescription           45\n",
       "ProductOriginalUnitPriceGBP          442\n",
       "ProductMaxDaysToSellInFullPrice      385\n",
       "Season                                 2\n",
       "FullPriceUnits                        67\n",
       "RateofSales                         1420\n",
       "dtype: int64"
      ]
     },
     "execution_count": 53,
     "metadata": {},
     "output_type": "execute_result"
    }
   ],
   "source": [
    "# checking for unique values\n",
    "\n",
    "sales_data.nunique()"
   ]
  },
  {
   "cell_type": "code",
   "execution_count": 54,
   "metadata": {},
   "outputs": [
    {
     "name": "stdout",
     "output_type": "stream",
     "text": [
      "There are 1 categorical variables\n",
      "\n",
      "The categorical variables are: \n",
      " ['ProductSize']\n",
      "M         690\n",
      "S         682\n",
      "L         673\n",
      "XS        470\n",
      "XL        403\n",
      "         ... \n",
      "42 C/D      1\n",
      "52 IT       1\n",
      "27/34       1\n",
      "38 C/D      1\n",
      "9           1\n",
      "Name: ProductSize, Length: 248, dtype: int64\n"
     ]
    }
   ],
   "source": [
    "# finding frequencies in categorical values\n",
    "\n",
    "categorical = [var for var in sales_data.columns if sales_data[var].dtype=='O']\n",
    "\n",
    "print('There are {} categorical variables\\n'.format(len(categorical)))\n",
    "print('The categorical variables are: \\n', categorical)\n",
    "\n",
    "for i in categorical:\n",
    "    print(sales_data[i].value_counts())"
   ]
  },
  {
   "cell_type": "markdown",
   "metadata": {},
   "source": [
    "The initial observation from the dataset is as below:\n",
    "\n",
    "- We have 13 variables in the data with over 10,000 samples.\n",
    "- We are trying to predict the 'RateofSales' variable which is our target variable. Also, since this is a continuous variable, the becomes a standard regression problem.\n",
    "- The continuous variables(excluding the target variable) in the dataset are:\n",
    "    - ProductOriginalUnitPriceGBP\n",
    "    - ProductMaxDaysToSellInFullPrice\n",
    "    - FullPriceUnits\n",
    "    - ProductSkuCode\n",
    "- The categorical variables in the dataset are:\n",
    "    - Product Number\n",
    "    - ProductSize\n",
    "    - Product Division\n",
    "    - Product Department\n",
    "    - Product Group\n",
    "    - Product Category\n",
    "    - Product SizeGroupDescription\n",
    "    - Season"
   ]
  },
  {
   "cell_type": "markdown",
   "metadata": {},
   "source": [
    "## Multi-variate Analysis"
   ]
  },
  {
   "cell_type": "code",
   "execution_count": 55,
   "metadata": {
    "scrolled": false
   },
   "outputs": [
    {
     "data": {
      "image/png": "[encoded data removed]",
      "text/plain": [
       "<Figure size 720x720 with 20 Axes>"
      ]
     },
     "metadata": {
      "needs_background": "light"
     },
     "output_type": "display_data"
    }
   ],
   "source": [
    "numeric_features = ['ProductOriginalUnitPriceGBP',\n",
    "                    'ProductMaxDaysToSellInFullPrice',\n",
    "                    'FullPriceUnits',\n",
    "                    'RateofSales']\n",
    "\n",
    "# sns.reset_orig()\n",
    "sns.pairplot(sales_data[numeric_features]);"
   ]
  },
  {
   "cell_type": "markdown",
   "metadata": {},
   "source": [
    "Observations:\n",
    "\n",
    "- The numberical features have high skewness and not normally distributed."
   ]
  },
  {
   "cell_type": "markdown",
   "metadata": {},
   "source": [
    "## Missing Value Treatment & Data Clean Up"
   ]
  },
  {
   "cell_type": "code",
   "execution_count": 56,
   "metadata": {},
   "outputs": [
    {
     "data": {
      "text/plain": [
       "ProductNumber                      0\n",
       "ProductSkuCode                     0\n",
       "ProductSize                        0\n",
       "ProductDivision                    0\n",
       "ProductDepartment                  0\n",
       "ProductGroup                       0\n",
       "ProductCategory                    0\n",
       "ProductSizeGroupDescription        0\n",
       "ProductOriginalUnitPriceGBP        0\n",
       "ProductMaxDaysToSellInFullPrice    0\n",
       "Season                             0\n",
       "FullPriceUnits                     0\n",
       "RateofSales                        0\n",
       "dtype: int64"
      ]
     },
     "execution_count": 56,
     "metadata": {},
     "output_type": "execute_result"
    }
   ],
   "source": [
    "# checking for nan values\n",
    "\n",
    "sales_data.isnull().sum()"
   ]
  },
  {
   "cell_type": "markdown",
   "metadata": {},
   "source": [
    "- There are no missing values in the data and no imputations are needed"
   ]
  },
  {
   "cell_type": "code",
   "execution_count": 57,
   "metadata": {},
   "outputs": [],
   "source": [
    "# dropping unnecessary features\n",
    "\n",
    "# sales_data_modified = sales_data.iloc[:,2:]\n",
    "sales_data_modified = sales_data.drop(labels=['ProductNumber','ProductSkuCode'], axis=1)"
   ]
  },
  {
   "cell_type": "code",
   "execution_count": 58,
   "metadata": {
    "scrolled": true
   },
   "outputs": [
    {
     "name": "stdout",
     "output_type": "stream",
     "text": [
      "The features with negative values are:\n",
      " [['ProductMaxDaysToSellInFullPrice']]\n"
     ]
    },
    {
     "data": {
      "text/html": [
       "<div>\n",
       "<style scoped>\n",
       "    .dataframe tbody tr th:only-of-type {\n",
       "        vertical-align: middle;\n",
       "    }\n",
       "\n",
       "    .dataframe tbody tr th {\n",
       "        vertical-align: top;\n",
       "    }\n",
       "\n",
       "    .dataframe thead th {\n",
       "        text-align: right;\n",
       "    }\n",
       "</style>\n",
       "<table border=\"1\" class=\"dataframe\">\n",
       "  <thead>\n",
       "    <tr style=\"text-align: right;\">\n",
       "      <th></th>\n",
       "      <th>ProductNumber</th>\n",
       "      <th>ProductSize</th>\n",
       "      <th>ProductMaxDaysToSellInFullPrice</th>\n",
       "      <th>FullPriceUnits</th>\n",
       "      <th>ProductOriginalUnitPriceGBP</th>\n",
       "    </tr>\n",
       "  </thead>\n",
       "  <tbody>\n",
       "    <tr>\n",
       "      <th>309</th>\n",
       "      <td>1128</td>\n",
       "      <td>46 UK/US</td>\n",
       "      <td>-26.0</td>\n",
       "      <td>0</td>\n",
       "      <td>504.0</td>\n",
       "    </tr>\n",
       "    <tr>\n",
       "      <th>328</th>\n",
       "      <td>1128</td>\n",
       "      <td>50 UK/US</td>\n",
       "      <td>-26.0</td>\n",
       "      <td>0</td>\n",
       "      <td>504.0</td>\n",
       "    </tr>\n",
       "    <tr>\n",
       "      <th>329</th>\n",
       "      <td>1128</td>\n",
       "      <td>52 UK/US</td>\n",
       "      <td>-26.0</td>\n",
       "      <td>0</td>\n",
       "      <td>504.0</td>\n",
       "    </tr>\n",
       "    <tr>\n",
       "      <th>2168</th>\n",
       "      <td>1628</td>\n",
       "      <td>40 FR</td>\n",
       "      <td>-1.0</td>\n",
       "      <td>0</td>\n",
       "      <td>3339.0</td>\n",
       "    </tr>\n",
       "    <tr>\n",
       "      <th>2508</th>\n",
       "      <td>1128</td>\n",
       "      <td>48 UK/US</td>\n",
       "      <td>-26.0</td>\n",
       "      <td>0</td>\n",
       "      <td>504.0</td>\n",
       "    </tr>\n",
       "    <tr>\n",
       "      <th>2754</th>\n",
       "      <td>1628</td>\n",
       "      <td>42 FR</td>\n",
       "      <td>-1.0</td>\n",
       "      <td>0</td>\n",
       "      <td>3339.0</td>\n",
       "    </tr>\n",
       "    <tr>\n",
       "      <th>5670</th>\n",
       "      <td>2049</td>\n",
       "      <td>S</td>\n",
       "      <td>-81.0</td>\n",
       "      <td>0</td>\n",
       "      <td>420.0</td>\n",
       "    </tr>\n",
       "    <tr>\n",
       "      <th>7467</th>\n",
       "      <td>2049</td>\n",
       "      <td>M</td>\n",
       "      <td>-81.0</td>\n",
       "      <td>0</td>\n",
       "      <td>420.0</td>\n",
       "    </tr>\n",
       "    <tr>\n",
       "      <th>9748</th>\n",
       "      <td>2049</td>\n",
       "      <td>XS</td>\n",
       "      <td>-81.0</td>\n",
       "      <td>0</td>\n",
       "      <td>420.0</td>\n",
       "    </tr>\n",
       "    <tr>\n",
       "      <th>9749</th>\n",
       "      <td>2049</td>\n",
       "      <td>L</td>\n",
       "      <td>-81.0</td>\n",
       "      <td>0</td>\n",
       "      <td>420.0</td>\n",
       "    </tr>\n",
       "  </tbody>\n",
       "</table>\n",
       "</div>"
      ],
      "text/plain": [
       "      ProductNumber ProductSize  ProductMaxDaysToSellInFullPrice  \\\n",
       "309            1128    46 UK/US                            -26.0   \n",
       "328            1128    50 UK/US                            -26.0   \n",
       "329            1128    52 UK/US                            -26.0   \n",
       "2168           1628       40 FR                             -1.0   \n",
       "2508           1128    48 UK/US                            -26.0   \n",
       "2754           1628       42 FR                             -1.0   \n",
       "5670           2049           S                            -81.0   \n",
       "7467           2049           M                            -81.0   \n",
       "9748           2049          XS                            -81.0   \n",
       "9749           2049           L                            -81.0   \n",
       "\n",
       "      FullPriceUnits  ProductOriginalUnitPriceGBP  \n",
       "309                0                        504.0  \n",
       "328                0                        504.0  \n",
       "329                0                        504.0  \n",
       "2168               0                       3339.0  \n",
       "2508               0                        504.0  \n",
       "2754               0                       3339.0  \n",
       "5670               0                        420.0  \n",
       "7467               0                        420.0  \n",
       "9748               0                        420.0  \n",
       "9749               0                        420.0  "
      ]
     },
     "execution_count": 58,
     "metadata": {},
     "output_type": "execute_result"
    }
   ],
   "source": [
    "# looking for negative values in the columns\n",
    "\n",
    "negative_features =[]\n",
    "negative_features.append([col for col in sales_data_modified.columns.to_list()[1:] if len(sales_data_modified[(sales_data_modified[col]<0)]) != 0])\n",
    "print(\"The features with negative values are:\\n\",negative_features)\n",
    "\n",
    "# sales_data[sales_data['ProductMaxDaysToSellInFullPrice']<0]['ProductMaxDaysToSellInFullPrice']\n",
    "sales_data[sales_data['ProductMaxDaysToSellInFullPrice']<0][['ProductNumber','ProductSize','ProductMaxDaysToSellInFullPrice','FullPriceUnits','ProductOriginalUnitPriceGBP']]"
   ]
  },
  {
   "cell_type": "markdown",
   "metadata": {},
   "source": [
    "The dataset doesn't have any negative values except for 'ProductMaxDaysToSellInFullPrice'. The maximum days sold on full price cannot be negative, hence we are dropping these rows."
   ]
  },
  {
   "cell_type": "code",
   "execution_count": 59,
   "metadata": {
    "scrolled": true
   },
   "outputs": [],
   "source": [
    "# Removing all negative rows\n",
    "\n",
    "sales_data_modified = sales_data_modified[sales_data_modified['ProductMaxDaysToSellInFullPrice']>0]"
   ]
  },
  {
   "cell_type": "markdown",
   "metadata": {},
   "source": [
    "# Model Training and Validation"
   ]
  },
  {
   "cell_type": "markdown",
   "metadata": {},
   "source": [
    "- As an initial step we first seperate the data into X and y"
   ]
  },
  {
   "cell_type": "code",
   "execution_count": 60,
   "metadata": {
    "scrolled": true
   },
   "outputs": [
    {
     "data": {
      "text/html": [
       "<div>\n",
       "<style scoped>\n",
       "    .dataframe tbody tr th:only-of-type {\n",
       "        vertical-align: middle;\n",
       "    }\n",
       "\n",
       "    .dataframe tbody tr th {\n",
       "        vertical-align: top;\n",
       "    }\n",
       "\n",
       "    .dataframe thead th {\n",
       "        text-align: right;\n",
       "    }\n",
       "</style>\n",
       "<table border=\"1\" class=\"dataframe\">\n",
       "  <thead>\n",
       "    <tr style=\"text-align: right;\">\n",
       "      <th></th>\n",
       "      <th>ProductSize</th>\n",
       "      <th>ProductDivision</th>\n",
       "      <th>ProductDepartment</th>\n",
       "      <th>ProductGroup</th>\n",
       "      <th>ProductCategory</th>\n",
       "      <th>ProductSizeGroupDescription</th>\n",
       "      <th>ProductOriginalUnitPriceGBP</th>\n",
       "      <th>ProductMaxDaysToSellInFullPrice</th>\n",
       "      <th>Season</th>\n",
       "      <th>FullPriceUnits</th>\n",
       "    </tr>\n",
       "  </thead>\n",
       "  <tbody>\n",
       "    <tr>\n",
       "      <th>0</th>\n",
       "      <td>8 UK</td>\n",
       "      <td>1</td>\n",
       "      <td>6</td>\n",
       "      <td>12</td>\n",
       "      <td>69</td>\n",
       "      <td>29</td>\n",
       "      <td>3913.0</td>\n",
       "      <td>1.0</td>\n",
       "      <td>0</td>\n",
       "      <td>0</td>\n",
       "    </tr>\n",
       "    <tr>\n",
       "      <th>1</th>\n",
       "      <td>44 FR</td>\n",
       "      <td>1</td>\n",
       "      <td>6</td>\n",
       "      <td>19</td>\n",
       "      <td>217</td>\n",
       "      <td>26</td>\n",
       "      <td>1085.0</td>\n",
       "      <td>1.0</td>\n",
       "      <td>0</td>\n",
       "      <td>0</td>\n",
       "    </tr>\n",
       "    <tr>\n",
       "      <th>2</th>\n",
       "      <td>XL</td>\n",
       "      <td>1</td>\n",
       "      <td>3</td>\n",
       "      <td>3</td>\n",
       "      <td>84</td>\n",
       "      <td>32</td>\n",
       "      <td>105.0</td>\n",
       "      <td>164.0</td>\n",
       "      <td>0</td>\n",
       "      <td>1</td>\n",
       "    </tr>\n",
       "    <tr>\n",
       "      <th>3</th>\n",
       "      <td>38 IT</td>\n",
       "      <td>1</td>\n",
       "      <td>6</td>\n",
       "      <td>31</td>\n",
       "      <td>152</td>\n",
       "      <td>27</td>\n",
       "      <td>637.0</td>\n",
       "      <td>1.0</td>\n",
       "      <td>0</td>\n",
       "      <td>0</td>\n",
       "    </tr>\n",
       "    <tr>\n",
       "      <th>4</th>\n",
       "      <td>42 IT</td>\n",
       "      <td>1</td>\n",
       "      <td>6</td>\n",
       "      <td>31</td>\n",
       "      <td>152</td>\n",
       "      <td>27</td>\n",
       "      <td>637.0</td>\n",
       "      <td>129.0</td>\n",
       "      <td>0</td>\n",
       "      <td>2</td>\n",
       "    </tr>\n",
       "  </tbody>\n",
       "</table>\n",
       "</div>"
      ],
      "text/plain": [
       "  ProductSize  ProductDivision  ProductDepartment  ProductGroup  \\\n",
       "0        8 UK                1                  6            12   \n",
       "1       44 FR                1                  6            19   \n",
       "2          XL                1                  3             3   \n",
       "3       38 IT                1                  6            31   \n",
       "4       42 IT                1                  6            31   \n",
       "\n",
       "   ProductCategory  ProductSizeGroupDescription  ProductOriginalUnitPriceGBP  \\\n",
       "0               69                           29                       3913.0   \n",
       "1              217                           26                       1085.0   \n",
       "2               84                           32                        105.0   \n",
       "3              152                           27                        637.0   \n",
       "4              152                           27                        637.0   \n",
       "\n",
       "   ProductMaxDaysToSellInFullPrice  Season  FullPriceUnits  \n",
       "0                              1.0       0               0  \n",
       "1                              1.0       0               0  \n",
       "2                            164.0       0               1  \n",
       "3                              1.0       0               0  \n",
       "4                            129.0       0               2  "
      ]
     },
     "execution_count": 60,
     "metadata": {},
     "output_type": "execute_result"
    }
   ],
   "source": [
    "# Seperating dataframe to X and y\n",
    "\n",
    "X = sales_data_modified.iloc[:,0:10]\n",
    "X.head()"
   ]
  },
  {
   "cell_type": "code",
   "execution_count": 61,
   "metadata": {},
   "outputs": [
    {
     "data": {
      "text/plain": [
       "0        0.000000\n",
       "1        0.000000\n",
       "2        0.006098\n",
       "3        0.000000\n",
       "4        0.015504\n",
       "           ...   \n",
       "10523    0.013889\n",
       "10524    0.017094\n",
       "10525    0.012500\n",
       "10526    0.044944\n",
       "10527    0.008403\n",
       "Name: RateofSales, Length: 10518, dtype: float64"
      ]
     },
     "execution_count": 61,
     "metadata": {},
     "output_type": "execute_result"
    }
   ],
   "source": [
    "y = sales_data_modified['RateofSales']\n",
    "y"
   ]
  },
  {
   "cell_type": "code",
   "execution_count": 62,
   "metadata": {},
   "outputs": [
    {
     "name": "stdout",
     "output_type": "stream",
     "text": [
      "Shape of X train set: (7362, 10)\n",
      "Shape of X test set: (3156, 10)\n",
      "Shape of y train set: (7362,)\n",
      "Shape of y test set: (3156,)\n"
     ]
    }
   ],
   "source": [
    "# Splitting the dataset to train and test\n",
    "# random.seed(10)\n",
    "\n",
    "X_train, X_test, y_train, y_test = train_test_split(X,y,train_size=0.7,random_state=0)\n",
    "\n",
    "print(\"Shape of X train set:\",X_train.shape)\n",
    "print(\"Shape of X test set:\",X_test.shape)\n",
    "print(\"Shape of y train set:\",y_train.shape)\n",
    "print(\"Shape of y test set:\",y_test.shape)"
   ]
  },
  {
   "cell_type": "code",
   "execution_count": 63,
   "metadata": {
    "scrolled": true
   },
   "outputs": [
    {
     "data": {
      "text/plain": [
       "ProductSize                         object\n",
       "ProductDivision                      int64\n",
       "ProductDepartment                    int64\n",
       "ProductGroup                         int64\n",
       "ProductCategory                      int64\n",
       "ProductSizeGroupDescription          int64\n",
       "ProductOriginalUnitPriceGBP        float64\n",
       "ProductMaxDaysToSellInFullPrice    float64\n",
       "Season                               int64\n",
       "FullPriceUnits                       int64\n",
       "dtype: object"
      ]
     },
     "execution_count": 63,
     "metadata": {},
     "output_type": "execute_result"
    }
   ],
   "source": [
    "X_train.dtypes"
   ]
  },
  {
   "cell_type": "markdown",
   "metadata": {},
   "source": [
    "# Multicollinearity check"
   ]
  },
  {
   "cell_type": "code",
   "execution_count": 65,
   "metadata": {},
   "outputs": [
    {
     "data": {
      "image/png": "[encoded data removed]",
      "text/plain": [
       "<Figure size 1440x864 with 2 Axes>"
      ]
     },
     "metadata": {
      "needs_background": "light"
     },
     "output_type": "display_data"
    }
   ],
   "source": [
    "# Checking for multicollinearity\n",
    "\n",
    "plt.figure(figsize=(20,12))\n",
    "sns.heatmap(X_train.corr(),cmap='RdBu',annot=True);"
   ]
  },
  {
   "cell_type": "markdown",
   "metadata": {},
   "source": [
    "- Before we build the model, we shall encode the descrete categorical variables. We shall use the below encoders:\n",
    "    - Target Encoder to encode categorical features with many levels.\n",
    "    - The features 'ProductSize' have many levels and using the One-hot encoding will increase the dimensionality rapidly and we had to deal with the curse of dimensionality to fix it. Thus, we use target encoder instead."
   ]
  },
  {
   "cell_type": "code",
   "execution_count": 66,
   "metadata": {},
   "outputs": [],
   "source": [
    "# Dropping columns with high correlation\n",
    "\n",
    "X_train.drop(['ProductSizeGroupDescription'], inplace=True, axis=1)\n",
    "X_test.drop(['ProductSizeGroupDescription'], inplace=True, axis=1)"
   ]
  },
  {
   "cell_type": "markdown",
   "metadata": {},
   "source": [
    "## Encoding Categorical Variables"
   ]
  },
  {
   "cell_type": "code",
   "execution_count": 64,
   "metadata": {},
   "outputs": [],
   "source": [
    "# high_categ = ['ProductSize','ProductDepartment','ProductGroup','ProductCategory']\n",
    "high_categ = ['ProductSize']\n",
    "\n",
    "for col in high_categ:\n",
    "    X_train.loc[:,col] = X_train[col].astype('category')\n",
    "    X_test.loc[:,col] = X_test[col].astype('category')\n",
    "    \n",
    "# Target encoding features with many levels\n",
    "te = ce.TargetEncoder()\n",
    "te.fit(X_train[high_categ],y_train)\n",
    "X_train = X_train.join(te.transform(X_train[high_categ]).add_suffix('_target'))\n",
    "X_test = X_test.join(te.transform(X_test[high_categ]).add_suffix('_target'))\n",
    "\n",
    "# Dropping redundant columns\n",
    "X_train.drop(high_categ, inplace= True, axis=1)\n",
    "X_test.drop(high_categ, inplace= True, axis=1)\n",
    "\n",
    "# low_categ = ['ProductDivision','Season']\n",
    "# for col in low_categ:\n",
    "#     X_train.loc[:,col] = X_train[col].astype('category')\n",
    "# One hot encoding features with low levels\n",
    "# ohe = ce.OneHotEncoder()\n",
    "# ohe.fit(X_train[low_categ])\n",
    "# X_train = X_train.join(ohe.transform(X_train[low_categ]))\n",
    "# Dropping redundant columns\n",
    "# X_train.drop(low_categ, inplace= True, axis=1)"
   ]
  },
  {
   "cell_type": "markdown",
   "metadata": {},
   "source": [
    "- Before building the model we need to ideally take a call to scale the data or not. We are deciding to use random forest which is a tree based model and this would not require it's input to be scaled."
   ]
  },
  {
   "cell_type": "markdown",
   "metadata": {},
   "source": [
    "## Random forest"
   ]
  },
  {
   "cell_type": "code",
   "execution_count": 67,
   "metadata": {},
   "outputs": [],
   "source": [
    "# creating a parameter grid for cross validation and hyper parameter tuning\n",
    "param_grid = {\n",
    "    'max_depth': [50,80, 90,100],\n",
    "    'min_samples_leaf': [3, 4, 5,6],\n",
    "    'min_samples_split': [8, 10, 12],\n",
    "    'n_estimators': [40,50,100,150]\n",
    "}\n",
    "\n",
    "rf = RandomForestRegressor()\n",
    "grid_search = GridSearchCV(estimator = rf, param_grid = param_grid, cv = 5, n_jobs = -1, verbose = 2)\n",
    "\n",
    "# finding the best parameter from our cross validation\n",
    "grid_search.fit(X_train, y_train)\n",
    "print(\"Best parameters are:\",grid_search.best_params_)\n",
    "\n",
    "# we are creating model out of the best grid generated by the cross validation\n",
    "best_grid = grid_search.best_estimator_\n",
    "\n",
    "# predicting the values using X_test data set\n",
    "y_pred_test = best_grid.predict(X_test)\n",
    "\n",
    "# predicting with the train set\n",
    "y_pred_train = best_grid.predict(X_train)\n",
    "\n",
    "# Calculating the metrics for our model performance\n",
    "print('Mean Absolute Error with train set:', metrics.mean_absolute_error(y_train, y_pred_train))\n",
    "print('Mean Squared Error with train set:', metrics.mean_squared_error(y_train, y_pred_train))\n",
    "print('R2 score with train set:',metrics.r2_score(y_train, y_pred_train))\n",
    "print('Root Mean Squared Error with train set:', np.sqrt(metrics.mean_squared_error(y_train, y_pred_train)))\n",
    "\n",
    "# Calculating the metrics for our model performance\n",
    "print('Mean Absolute Error:', metrics.mean_absolute_error(y_test, y_pred_test))\n",
    "print('Mean Squared Error:', metrics.mean_squared_error(y_test, y_pred_test))\n",
    "print('R2 score:',metrics.r2_score(y_test, y_pred_test))\n",
    "print('Root Mean Squared Error:', np.sqrt(metrics.mean_squared_error(y_test, y_pred_test)))"
   ]
  },
  {
   "cell_type": "markdown",
   "metadata": {},
   "source": [
    "### Predicting using random forest"
   ]
  },
  {
   "cell_type": "code",
   "execution_count": 25,
   "metadata": {
    "scrolled": true
   },
   "outputs": [
    {
     "data": {
      "text/html": [
       "<div>\n",
       "<style scoped>\n",
       "    .dataframe tbody tr th:only-of-type {\n",
       "        vertical-align: middle;\n",
       "    }\n",
       "\n",
       "    .dataframe tbody tr th {\n",
       "        vertical-align: top;\n",
       "    }\n",
       "\n",
       "    .dataframe thead th {\n",
       "        text-align: right;\n",
       "    }\n",
       "</style>\n",
       "<table border=\"1\" class=\"dataframe\">\n",
       "  <thead>\n",
       "    <tr style=\"text-align: right;\">\n",
       "      <th></th>\n",
       "      <th>Rate of Sales Real Values</th>\n",
       "      <th>Rate of Sales Predicted Values</th>\n",
       "    </tr>\n",
       "  </thead>\n",
       "  <tbody>\n",
       "    <tr>\n",
       "      <th>985</th>\n",
       "      <td>0.000000</td>\n",
       "      <td>0.000000</td>\n",
       "    </tr>\n",
       "    <tr>\n",
       "      <th>3303</th>\n",
       "      <td>0.222222</td>\n",
       "      <td>0.237786</td>\n",
       "    </tr>\n",
       "    <tr>\n",
       "      <th>9350</th>\n",
       "      <td>0.046512</td>\n",
       "      <td>0.046458</td>\n",
       "    </tr>\n",
       "    <tr>\n",
       "      <th>4184</th>\n",
       "      <td>0.000000</td>\n",
       "      <td>0.000000</td>\n",
       "    </tr>\n",
       "    <tr>\n",
       "      <th>5769</th>\n",
       "      <td>0.068493</td>\n",
       "      <td>0.071735</td>\n",
       "    </tr>\n",
       "    <tr>\n",
       "      <th>...</th>\n",
       "      <td>...</td>\n",
       "      <td>...</td>\n",
       "    </tr>\n",
       "    <tr>\n",
       "      <th>7934</th>\n",
       "      <td>0.018018</td>\n",
       "      <td>0.018007</td>\n",
       "    </tr>\n",
       "    <tr>\n",
       "      <th>9678</th>\n",
       "      <td>0.000000</td>\n",
       "      <td>0.000000</td>\n",
       "    </tr>\n",
       "    <tr>\n",
       "      <th>4633</th>\n",
       "      <td>0.007634</td>\n",
       "      <td>0.007638</td>\n",
       "    </tr>\n",
       "    <tr>\n",
       "      <th>8377</th>\n",
       "      <td>0.025974</td>\n",
       "      <td>0.025956</td>\n",
       "    </tr>\n",
       "    <tr>\n",
       "      <th>90</th>\n",
       "      <td>0.000000</td>\n",
       "      <td>0.000000</td>\n",
       "    </tr>\n",
       "  </tbody>\n",
       "</table>\n",
       "<p>3156 rows × 2 columns</p>\n",
       "</div>"
      ],
      "text/plain": [
       "      Rate of Sales Real Values  Rate of Sales Predicted Values\n",
       "985                    0.000000                        0.000000\n",
       "3303                   0.222222                        0.237786\n",
       "9350                   0.046512                        0.046458\n",
       "4184                   0.000000                        0.000000\n",
       "5769                   0.068493                        0.071735\n",
       "...                         ...                             ...\n",
       "7934                   0.018018                        0.018007\n",
       "9678                   0.000000                        0.000000\n",
       "4633                   0.007634                        0.007638\n",
       "8377                   0.025974                        0.025956\n",
       "90                     0.000000                        0.000000\n",
       "\n",
       "[3156 rows x 2 columns]"
      ]
     },
     "execution_count": 25,
     "metadata": {},
     "output_type": "execute_result"
    }
   ],
   "source": [
    "df = pd.DataFrame({'Rate of Sales Real Values':y_test, 'Rate of Sales Predicted Values':y_pred_test})\n",
    "df"
   ]
  },
  {
   "cell_type": "markdown",
   "metadata": {},
   "source": [
    "### Feature importance"
   ]
  },
  {
   "cell_type": "code",
   "execution_count": 26,
   "metadata": {},
   "outputs": [
    {
     "name": "stdout",
     "output_type": "stream",
     "text": [
      "Feature: ProductDivision, Score: 0.00026\n",
      "Feature: ProductOriginalUnitPriceGBP, Score: 0.00454\n",
      "Feature: ProductMaxDaysToSellInFullPrice, Score: 0.59339\n",
      "Feature: Season, Score: 0.00012\n",
      "Feature: FullPriceUnits, Score: 0.34581\n",
      "Feature: ProductSize_target, Score: 0.02301\n",
      "Feature: ProductDepartment_target, Score: 0.00101\n",
      "Feature: ProductGroup_target, Score: 0.00024\n",
      "Feature: ProductCategory_target, Score: 0.03162\n"
     ]
    },
    {
     "data": {
      "image/png": "[encoded data removed]",
      "text/plain": [
       "<Figure size 432x288 with 1 Axes>"
      ]
     },
     "metadata": {
      "needs_background": "light"
     },
     "output_type": "display_data"
    }
   ],
   "source": [
    "# Finding the important feature from the model\n",
    "importance = best_grid.feature_importances_\n",
    "\n",
    "# summarize feature importance\n",
    "for i,v in enumerate(importance):\n",
    "    print('Feature: %s, Score: %.5f' % (X_test.columns[i],v))\n",
    "\n",
    "# plot feature importance\n",
    "plt.bar([x for x in range(len(importance))], importance)\n",
    "plt.show()"
   ]
  },
  {
   "cell_type": "markdown",
   "metadata": {},
   "source": [
    "- From the above plot and values it is clear that $ProductMaxDaysToSellInFullPrice$ plays very important role in deciding the rates of sales next important feature is $FullPriceUnit$ which is quiet obvious since th formula for \n",
    "\n",
    "    - $ rate of sales :FullPriceUnit/ProductMaxDaysToSellInFullPrice $"
   ]
  },
  {
   "cell_type": "markdown",
   "metadata": {},
   "source": [
    "- The additional data that can improve upon this is when we get more additional features specifically promotional offers, brands. This would allow us to predict more accurately."
   ]
  },
  {
   "cell_type": "markdown",
   "metadata": {},
   "source": [
    "## K-fold cross validation"
   ]
  },
  {
   "cell_type": "code",
   "execution_count": 109,
   "metadata": {},
   "outputs": [
    {
     "name": "stdout",
     "output_type": "stream",
     "text": [
      "Fitting 5 folds for each of 192 candidates, totalling 960 fits\n",
      "<class 'category_encoders.leave_one_out.LeaveOneOutEncoder'>\n",
      "Mean Absolute Error with train set: 0.006989441884166491\n",
      "Mean Squared Error with train set: 0.01507000440027007\n",
      "R2 score with train set: 0.8560363654596322\n",
      "Root Mean Squared Error with train set: 0.12275994623764735\n",
      "Mean Absolute Error: 0.006333281254137316\n",
      "Mean Squared Error: 0.005858166239537118\n",
      "R2 score: 0.8021736080488995\n",
      "Root Mean Squared Error: 0.07653865846444605\n",
      "Fitting 5 folds for each of 192 candidates, totalling 960 fits\n",
      "<class 'category_encoders.ordinal.OrdinalEncoder'>\n",
      "Mean Absolute Error with train set: 0.006310640274379951\n",
      "Mean Squared Error with train set: 0.014023100406631128\n",
      "R2 score with train set: 0.8660374311485306\n",
      "Root Mean Squared Error with train set: 0.11841917246219519\n",
      "Mean Absolute Error: 0.004697703581143103\n",
      "Mean Squared Error: 0.0035817533492284955\n",
      "R2 score: 0.8790465628724407\n",
      "Root Mean Squared Error: 0.05984775141330287\n",
      "Fitting 5 folds for each of 192 candidates, totalling 960 fits\n",
      "<class 'category_encoders.polynomial.PolynomialEncoder'>\n",
      "Mean Absolute Error with train set: 0.0067899949878023\n",
      "Mean Squared Error with train set: 0.014163783682912937\n",
      "R2 score with train set: 0.8646934849070674\n",
      "Root Mean Squared Error with train set: 0.11901169557196023\n",
      "Mean Absolute Error: 0.005540506078257905\n",
      "Mean Squared Error: 0.004363455943579699\n",
      "R2 score: 0.8526489842623239\n",
      "Root Mean Squared Error: 0.06605646027134439\n",
      "Fitting 5 folds for each of 192 candidates, totalling 960 fits\n",
      "<class 'category_encoders.sum_coding.SumEncoder'>\n",
      "Mean Absolute Error with train set: 0.0064348586981571535\n",
      "Mean Squared Error with train set: 0.013158901354574756\n",
      "R2 score with train set: 0.8742931179549754\n",
      "Root Mean Squared Error with train set: 0.11471225459633663\n",
      "Mean Absolute Error: 0.00559183381084209\n",
      "Mean Squared Error: 0.005424370445735432\n",
      "R2 score: 0.816822604547526\n",
      "Root Mean Squared Error: 0.07365032549646629\n",
      "Fitting 5 folds for each of 192 candidates, totalling 960 fits\n",
      "<class 'category_encoders.target_encoder.TargetEncoder'>\n",
      "Mean Absolute Error with train set: 0.007676813678930843\n",
      "Mean Squared Error with train set: 0.016669397998746352\n",
      "R2 score with train set: 0.8407573708832858\n",
      "Root Mean Squared Error with train set: 0.12911002284387665\n",
      "Mean Absolute Error: 0.005488631931215957\n",
      "Mean Squared Error: 0.0034787910718273945\n",
      "R2 score: 0.8825235307515457\n",
      "Root Mean Squared Error: 0.05898127729904969\n"
     ]
    }
   ],
   "source": [
    "# K-fold cv, target encoding, random forest regressor\n",
    "\n",
    "encoder_list = [\n",
    "#                 ce.backward_difference.BackwardDifferenceEncoder, \n",
    "#                 ce.basen.BaseNEncoder,\n",
    "#                 ce.binary.BinaryEncoder,\n",
    "#                 ce.cat_boost.CatBoostEncoder,\n",
    "#                 ce.hashing.HashingEncoder,\n",
    "#                 ce.helmert.HelmertEncoder,\n",
    "#                 ce.james_stein.JamesSteinEncoder,\n",
    "#                 ce.one_hot.OneHotEncoder,\n",
    "                ce.leave_one_out.LeaveOneOutEncoder,\n",
    "#                 ce.m_estimate.MEstimateEncoder,\n",
    "                ce.ordinal.OrdinalEncoder,\n",
    "                ce.polynomial.PolynomialEncoder,\n",
    "                ce.sum_coding.SumEncoder,\n",
    "                ce.target_encoder.TargetEncoder,\n",
    "#                 ce.woe.WOEEncoder\n",
    "                ]\n",
    "\n",
    "for encoder in encoder_list:\n",
    "    categorical_transformer = Pipeline(steps=[('te', encoder())])\n",
    "\n",
    "    categorical_features = ['ProductSize']\n",
    "\n",
    "    preprocessor = ColumnTransformer(transformers=[('cat', categorical_transformer, categorical_features)])\n",
    "\n",
    "    rf = Pipeline(steps=[('preprocessor', preprocessor),\n",
    "                      ('rfr', RandomForestRegressor())])\n",
    "\n",
    "    param_grid = {\n",
    "#         \"te__smoothing\": [0.0001],\n",
    "        \"rfr__max_depth\": [50,80, 90,100],\n",
    "        \"rfr__min_samples_leaf\": [3, 4, 5,6],\n",
    "        \"rfr__min_samples_split\": [8, 10, 12],\n",
    "        \"rfr__n_estimators\": [40,50,100,150]\n",
    "        }\n",
    "\n",
    "    pipe_cv = GridSearchCV(pipe,\n",
    "                      param_grid=param_grid,\n",
    "                      cv = 5, n_jobs = -1, verbose = 2)\n",
    "\n",
    "    # pipe.get_params().keys()\n",
    "    pipe_cv.fit(X_train,y_train)\n",
    "    print('Best parameters are:\\n',pipe_cv.best_params_)\n",
    "    best_grid = pipe_cv.best_estimator_\n",
    "    # predicting with the train set\n",
    "    \n",
    "    print('Encoder used:\\n',encoder)\n",
    "    y_pred_train = best_grid.predict(X_train)\n",
    "\n",
    "    # Calculating the metrics for our model performance\n",
    "    print('Mean Absolute Error with train set:', metrics.mean_absolute_error(y_train, y_pred_train))\n",
    "    print('Mean Squared Error with train set:', metrics.mean_squared_error(y_train, y_pred_train))\n",
    "    print('R2 score with train set:',metrics.r2_score(y_train, y_pred_train))\n",
    "    print('Root Mean Squared Error with train set:', np.sqrt(metrics.mean_squared_error(y_train, y_pred_train)))\n",
    "    \n",
    "    # predicting the values using X_test data set\n",
    "    y_pred_test = best_grid.predict(X_test)\n",
    "\n",
    "    # Calculating the metrics for our model performance\n",
    "    print('Mean Absolute Error:', metrics.mean_absolute_error(y_test, y_pred_test))\n",
    "    print('Mean Squared Error:', metrics.mean_squared_error(y_test, y_pred_test))\n",
    "    print('R2 score:',metrics.r2_score(y_test, y_pred_test))\n",
    "    print('Root Mean Squared Error:', np.sqrt(metrics.mean_squared_error(y_test, y_pred_test)))"
   ]
  },
  {
   "cell_type": "code",
   "execution_count": null,
   "metadata": {},
   "outputs": [],
   "source": []
  }
 ],
 "metadata": {
  "kernelspec": {
   "display_name": "Python 3",
   "language": "python",
   "name": "python3"
  },
  "language_info": {
   "codemirror_mode": {
    "name": "ipython",
    "version": 3
   },
   "file_extension": ".py",
   "mimetype": "text/x-python",
   "name": "python",
   "nbconvert_exporter": "python",
   "pygments_lexer": "ipython3",
   "version": "3.7.4"
  }
 },
 "nbformat": 4,
 "nbformat_minor": 2
}
